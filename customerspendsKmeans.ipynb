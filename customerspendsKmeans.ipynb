{
 "cells": [
  {
   "cell_type": "code",
   "execution_count": 2,
   "metadata": {},
   "outputs": [],
   "source": [
    "import numpy as np\n",
    "import pandas as pd\n",
    "import matplotlib.pyplot as plt\n",
    "import seaborn as sns"
   ]
  },
  {
   "cell_type": "code",
   "execution_count": 9,
   "metadata": {},
   "outputs": [
    {
     "data": {
      "text/plain": [
       "<matplotlib.axes._subplots.AxesSubplot at 0x41f5dd0>"
      ]
     },
     "execution_count": 9,
     "metadata": {},
     "output_type": "execute_result"
    },
    {
     "data": {
      "image/png": "[encoded data removed]",
      "text/plain": [
       "<Figure size 432x288 with 1 Axes>"
      ]
     },
     "metadata": {
      "needs_background": "light"
     },
     "output_type": "display_data"
    }
   ],
   "source": [
    "cust_sp = pd.read_csv(\"customerspends.csv\",index_col=0)\n",
    "#sns.regplot(x=\"Apparel\", y=\"Beauty and Healthcare\",data=cust_sp)\n",
    "cust_sp.plot.scatter(x=\"Apparel\", y=\"Beauty and Healthcare\")"
   ]
  },
  {
   "cell_type": "code",
   "execution_count": 10,
   "metadata": {},
   "outputs": [
    {
     "data": {
      "text/plain": [
       "array([[ 0.892371  , -1.26688022],\n",
       "       [ 0.20647107, -0.59775334],\n",
       "       [-0.96318111,  1.22840542],\n",
       "       [ 2.06085469, -1.11353864],\n",
       "       [-0.85801758,  1.63266957],\n",
       "       [ 0.12117176, -0.22136947],\n",
       "       [-0.57991846,  0.89384198],\n",
       "       [ 1.52335219, -1.05777807],\n",
       "       [-1.06600768,  1.10294413],\n",
       "       [ 0.03353548, -0.34683076],\n",
       "       [-0.96551808,  0.89384198],\n",
       "       [ 0.08611725, -0.96019707],\n",
       "       [-1.05899677,  1.33992657],\n",
       "       [-1.07652403,  0.79626098],\n",
       "       [ 1.03258904, -1.23899993],\n",
       "       [-0.65002748,  1.25628571],\n",
       "       [-0.00736145, -0.7789752 ],\n",
       "       [ 2.00243051, -1.0995985 ],\n",
       "       [ 0.10948692, -0.48902022],\n",
       "       [-0.84282729,  0.02676507]])"
      ]
     },
     "execution_count": 10,
     "metadata": {},
     "output_type": "execute_result"
    }
   ],
   "source": [
    "from sklearn.preprocessing import StandardScaler\n",
    "scaled_data = StandardScaler().fit_transform(cust_sp[[\"Apparel\",\"Beauty and Healthcare\"]])\n",
    "scaled_data"
   ]
  },
  {
   "cell_type": "code",
   "execution_count": 25,
   "metadata": {},
   "outputs": [
    {
     "data": {
      "text/plain": [
       "<matplotlib.axes._subplots.AxesSubplot at 0x116278f0>"
      ]
     },
     "execution_count": 25,
     "metadata": {},
     "output_type": "execute_result"
    },
    {
     "data": {
      "image/png": "[encoded data removed]",
      "text/plain": [
       "<Figure size 432x288 with 1 Axes>"
      ]
     },
     "metadata": {
      "needs_background": "light"
     },
     "output_type": "display_data"
    }
   ],
   "source": [
    "scaled_df = pd.DataFrame(scaled_data,columns=cust_sp.columns)\n",
    "scaled_df.plot(kind=\"scatter\",x=\"Apparel\", y=\"Beauty and Healthcare\")"
   ]
  },
  {
   "cell_type": "code",
   "execution_count": 30,
   "metadata": {},
   "outputs": [
    {
     "data": {
      "text/plain": [
       "<matplotlib.axes._subplots.AxesSubplot at 0x11d29250>"
      ]
     },
     "execution_count": 30,
     "metadata": {},
     "output_type": "execute_result"
    },
    {
     "data": {
      "image/png": "[encoded data removed]",
      "text/plain": [
       "<Figure size 432x288 with 1 Axes>"
      ]
     },
     "metadata": {
      "needs_background": "light"
     },
     "output_type": "display_data"
    }
   ],
   "source": [
    "from sklearn.cluster import KMeans\n",
    "clusters = range(1,10)\n",
    "errors = []\n",
    "for i in clusters:\n",
    "    K_clus = KMeans(i)\n",
    "    K_clus.fit(scaled_data)\n",
    "    errors.append(K_clus.inertia_)\n",
    "sns.scatterplot(x=clusters, y=errors)"
   ]
  },
  {
   "cell_type": "code",
   "execution_count": 31,
   "metadata": {},
   "outputs": [],
   "source": [
    "K_clus3 = KMeans(3,random_state=10)\n",
    "K_clus3.fit(scaled_data)\n",
    "cust_sp[\"Clusterid\"] = K_clus3.labels_"
   ]
  },
  {
   "cell_type": "code",
   "execution_count": 32,
   "metadata": {},
   "outputs": [
    {
     "data": {
      "text/html": [
       "<div>\n",
       "<style scoped>\n",
       "    .dataframe tbody tr th:only-of-type {\n",
       "        vertical-align: middle;\n",
       "    }\n",
       "\n",
       "    .dataframe tbody tr th {\n",
       "        vertical-align: top;\n",
       "    }\n",
       "\n",
       "    .dataframe thead th {\n",
       "        text-align: right;\n",
       "    }\n",
       "</style>\n",
       "<table border=\"1\" class=\"dataframe\">\n",
       "  <thead>\n",
       "    <tr style=\"text-align: right;\">\n",
       "      <th></th>\n",
       "      <th>Apparel</th>\n",
       "      <th>Beauty and Healthcare</th>\n",
       "      <th>Clusterid</th>\n",
       "    </tr>\n",
       "    <tr>\n",
       "      <th>Customer</th>\n",
       "      <th></th>\n",
       "      <th></th>\n",
       "      <th></th>\n",
       "    </tr>\n",
       "  </thead>\n",
       "  <tbody>\n",
       "    <tr>\n",
       "      <th>1</th>\n",
       "      <td>21.10</td>\n",
       "      <td>0.70</td>\n",
       "      <td>2</td>\n",
       "    </tr>\n",
       "    <tr>\n",
       "      <th>2</th>\n",
       "      <td>15.23</td>\n",
       "      <td>5.50</td>\n",
       "      <td>0</td>\n",
       "    </tr>\n",
       "    <tr>\n",
       "      <th>3</th>\n",
       "      <td>5.22</td>\n",
       "      <td>18.60</td>\n",
       "      <td>1</td>\n",
       "    </tr>\n",
       "    <tr>\n",
       "      <th>4</th>\n",
       "      <td>31.10</td>\n",
       "      <td>1.80</td>\n",
       "      <td>2</td>\n",
       "    </tr>\n",
       "    <tr>\n",
       "      <th>5</th>\n",
       "      <td>6.12</td>\n",
       "      <td>21.50</td>\n",
       "      <td>1</td>\n",
       "    </tr>\n",
       "    <tr>\n",
       "      <th>6</th>\n",
       "      <td>14.50</td>\n",
       "      <td>8.20</td>\n",
       "      <td>0</td>\n",
       "    </tr>\n",
       "    <tr>\n",
       "      <th>7</th>\n",
       "      <td>8.50</td>\n",
       "      <td>16.20</td>\n",
       "      <td>1</td>\n",
       "    </tr>\n",
       "    <tr>\n",
       "      <th>8</th>\n",
       "      <td>26.50</td>\n",
       "      <td>2.20</td>\n",
       "      <td>2</td>\n",
       "    </tr>\n",
       "    <tr>\n",
       "      <th>9</th>\n",
       "      <td>4.34</td>\n",
       "      <td>17.70</td>\n",
       "      <td>1</td>\n",
       "    </tr>\n",
       "    <tr>\n",
       "      <th>10</th>\n",
       "      <td>13.75</td>\n",
       "      <td>7.30</td>\n",
       "      <td>0</td>\n",
       "    </tr>\n",
       "    <tr>\n",
       "      <th>11</th>\n",
       "      <td>5.20</td>\n",
       "      <td>16.20</td>\n",
       "      <td>1</td>\n",
       "    </tr>\n",
       "    <tr>\n",
       "      <th>12</th>\n",
       "      <td>14.20</td>\n",
       "      <td>2.90</td>\n",
       "      <td>0</td>\n",
       "    </tr>\n",
       "    <tr>\n",
       "      <th>13</th>\n",
       "      <td>4.40</td>\n",
       "      <td>19.40</td>\n",
       "      <td>1</td>\n",
       "    </tr>\n",
       "    <tr>\n",
       "      <th>14</th>\n",
       "      <td>4.25</td>\n",
       "      <td>15.50</td>\n",
       "      <td>1</td>\n",
       "    </tr>\n",
       "    <tr>\n",
       "      <th>15</th>\n",
       "      <td>22.30</td>\n",
       "      <td>0.90</td>\n",
       "      <td>2</td>\n",
       "    </tr>\n",
       "    <tr>\n",
       "      <th>16</th>\n",
       "      <td>7.90</td>\n",
       "      <td>18.80</td>\n",
       "      <td>1</td>\n",
       "    </tr>\n",
       "    <tr>\n",
       "      <th>17</th>\n",
       "      <td>13.40</td>\n",
       "      <td>4.20</td>\n",
       "      <td>0</td>\n",
       "    </tr>\n",
       "    <tr>\n",
       "      <th>18</th>\n",
       "      <td>30.60</td>\n",
       "      <td>1.90</td>\n",
       "      <td>2</td>\n",
       "    </tr>\n",
       "    <tr>\n",
       "      <th>19</th>\n",
       "      <td>14.40</td>\n",
       "      <td>6.28</td>\n",
       "      <td>0</td>\n",
       "    </tr>\n",
       "    <tr>\n",
       "      <th>20</th>\n",
       "      <td>6.25</td>\n",
       "      <td>9.98</td>\n",
       "      <td>0</td>\n",
       "    </tr>\n",
       "  </tbody>\n",
       "</table>\n",
       "</div>"
      ],
      "text/plain": [
       "          Apparel  Beauty and Healthcare  Clusterid\n",
       "Customer                                           \n",
       "1           21.10                   0.70          2\n",
       "2           15.23                   5.50          0\n",
       "3            5.22                  18.60          1\n",
       "4           31.10                   1.80          2\n",
       "5            6.12                  21.50          1\n",
       "6           14.50                   8.20          0\n",
       "7            8.50                  16.20          1\n",
       "8           26.50                   2.20          2\n",
       "9            4.34                  17.70          1\n",
       "10          13.75                   7.30          0\n",
       "11           5.20                  16.20          1\n",
       "12          14.20                   2.90          0\n",
       "13           4.40                  19.40          1\n",
       "14           4.25                  15.50          1\n",
       "15          22.30                   0.90          2\n",
       "16           7.90                  18.80          1\n",
       "17          13.40                   4.20          0\n",
       "18          30.60                   1.90          2\n",
       "19          14.40                   6.28          0\n",
       "20           6.25                   9.98          0"
      ]
     },
     "execution_count": 32,
     "metadata": {},
     "output_type": "execute_result"
    }
   ],
   "source": [
    "cust_sp"
   ]
  },
  {
   "cell_type": "code",
   "execution_count": 35,
   "metadata": {},
   "outputs": [],
   "source": [
    "K_clus2 = KMeans(2,random_state=10)\n",
    "K_clus2.fit(scaled_data)\n",
    "cust_sp[\"Clusterid2\"] = K_clus2.labels_"
   ]
  },
  {
   "cell_type": "code",
   "execution_count": 36,
   "metadata": {},
   "outputs": [
    {
     "data": {
      "text/html": [
       "<div>\n",
       "<style scoped>\n",
       "    .dataframe tbody tr th:only-of-type {\n",
       "        vertical-align: middle;\n",
       "    }\n",
       "\n",
       "    .dataframe tbody tr th {\n",
       "        vertical-align: top;\n",
       "    }\n",
       "\n",
       "    .dataframe thead th {\n",
       "        text-align: right;\n",
       "    }\n",
       "</style>\n",
       "<table border=\"1\" class=\"dataframe\">\n",
       "  <thead>\n",
       "    <tr style=\"text-align: right;\">\n",
       "      <th></th>\n",
       "      <th>Apparel</th>\n",
       "      <th>Beauty and Healthcare</th>\n",
       "      <th>Clusterid</th>\n",
       "      <th>Clusterid2</th>\n",
       "    </tr>\n",
       "    <tr>\n",
       "      <th>Customer</th>\n",
       "      <th></th>\n",
       "      <th></th>\n",
       "      <th></th>\n",
       "      <th></th>\n",
       "    </tr>\n",
       "  </thead>\n",
       "  <tbody>\n",
       "    <tr>\n",
       "      <th>1</th>\n",
       "      <td>21.10</td>\n",
       "      <td>0.70</td>\n",
       "      <td>2</td>\n",
       "      <td>0</td>\n",
       "    </tr>\n",
       "    <tr>\n",
       "      <th>2</th>\n",
       "      <td>15.23</td>\n",
       "      <td>5.50</td>\n",
       "      <td>0</td>\n",
       "      <td>0</td>\n",
       "    </tr>\n",
       "    <tr>\n",
       "      <th>3</th>\n",
       "      <td>5.22</td>\n",
       "      <td>18.60</td>\n",
       "      <td>1</td>\n",
       "      <td>1</td>\n",
       "    </tr>\n",
       "    <tr>\n",
       "      <th>4</th>\n",
       "      <td>31.10</td>\n",
       "      <td>1.80</td>\n",
       "      <td>2</td>\n",
       "      <td>0</td>\n",
       "    </tr>\n",
       "    <tr>\n",
       "      <th>5</th>\n",
       "      <td>6.12</td>\n",
       "      <td>21.50</td>\n",
       "      <td>1</td>\n",
       "      <td>1</td>\n",
       "    </tr>\n",
       "    <tr>\n",
       "      <th>6</th>\n",
       "      <td>14.50</td>\n",
       "      <td>8.20</td>\n",
       "      <td>0</td>\n",
       "      <td>0</td>\n",
       "    </tr>\n",
       "    <tr>\n",
       "      <th>7</th>\n",
       "      <td>8.50</td>\n",
       "      <td>16.20</td>\n",
       "      <td>1</td>\n",
       "      <td>1</td>\n",
       "    </tr>\n",
       "    <tr>\n",
       "      <th>8</th>\n",
       "      <td>26.50</td>\n",
       "      <td>2.20</td>\n",
       "      <td>2</td>\n",
       "      <td>0</td>\n",
       "    </tr>\n",
       "    <tr>\n",
       "      <th>9</th>\n",
       "      <td>4.34</td>\n",
       "      <td>17.70</td>\n",
       "      <td>1</td>\n",
       "      <td>1</td>\n",
       "    </tr>\n",
       "    <tr>\n",
       "      <th>10</th>\n",
       "      <td>13.75</td>\n",
       "      <td>7.30</td>\n",
       "      <td>0</td>\n",
       "      <td>0</td>\n",
       "    </tr>\n",
       "    <tr>\n",
       "      <th>11</th>\n",
       "      <td>5.20</td>\n",
       "      <td>16.20</td>\n",
       "      <td>1</td>\n",
       "      <td>1</td>\n",
       "    </tr>\n",
       "    <tr>\n",
       "      <th>12</th>\n",
       "      <td>14.20</td>\n",
       "      <td>2.90</td>\n",
       "      <td>0</td>\n",
       "      <td>0</td>\n",
       "    </tr>\n",
       "    <tr>\n",
       "      <th>13</th>\n",
       "      <td>4.40</td>\n",
       "      <td>19.40</td>\n",
       "      <td>1</td>\n",
       "      <td>1</td>\n",
       "    </tr>\n",
       "    <tr>\n",
       "      <th>14</th>\n",
       "      <td>4.25</td>\n",
       "      <td>15.50</td>\n",
       "      <td>1</td>\n",
       "      <td>1</td>\n",
       "    </tr>\n",
       "    <tr>\n",
       "      <th>15</th>\n",
       "      <td>22.30</td>\n",
       "      <td>0.90</td>\n",
       "      <td>2</td>\n",
       "      <td>0</td>\n",
       "    </tr>\n",
       "    <tr>\n",
       "      <th>16</th>\n",
       "      <td>7.90</td>\n",
       "      <td>18.80</td>\n",
       "      <td>1</td>\n",
       "      <td>1</td>\n",
       "    </tr>\n",
       "    <tr>\n",
       "      <th>17</th>\n",
       "      <td>13.40</td>\n",
       "      <td>4.20</td>\n",
       "      <td>0</td>\n",
       "      <td>0</td>\n",
       "    </tr>\n",
       "    <tr>\n",
       "      <th>18</th>\n",
       "      <td>30.60</td>\n",
       "      <td>1.90</td>\n",
       "      <td>2</td>\n",
       "      <td>0</td>\n",
       "    </tr>\n",
       "    <tr>\n",
       "      <th>19</th>\n",
       "      <td>14.40</td>\n",
       "      <td>6.28</td>\n",
       "      <td>0</td>\n",
       "      <td>0</td>\n",
       "    </tr>\n",
       "    <tr>\n",
       "      <th>20</th>\n",
       "      <td>6.25</td>\n",
       "      <td>9.98</td>\n",
       "      <td>0</td>\n",
       "      <td>1</td>\n",
       "    </tr>\n",
       "  </tbody>\n",
       "</table>\n",
       "</div>"
      ],
      "text/plain": [
       "          Apparel  Beauty and Healthcare  Clusterid  Clusterid2\n",
       "Customer                                                       \n",
       "1           21.10                   0.70          2           0\n",
       "2           15.23                   5.50          0           0\n",
       "3            5.22                  18.60          1           1\n",
       "4           31.10                   1.80          2           0\n",
       "5            6.12                  21.50          1           1\n",
       "6           14.50                   8.20          0           0\n",
       "7            8.50                  16.20          1           1\n",
       "8           26.50                   2.20          2           0\n",
       "9            4.34                  17.70          1           1\n",
       "10          13.75                   7.30          0           0\n",
       "11           5.20                  16.20          1           1\n",
       "12          14.20                   2.90          0           0\n",
       "13           4.40                  19.40          1           1\n",
       "14           4.25                  15.50          1           1\n",
       "15          22.30                   0.90          2           0\n",
       "16           7.90                  18.80          1           1\n",
       "17          13.40                   4.20          0           0\n",
       "18          30.60                   1.90          2           0\n",
       "19          14.40                   6.28          0           0\n",
       "20           6.25                   9.98          0           1"
      ]
     },
     "execution_count": 36,
     "metadata": {},
     "output_type": "execute_result"
    }
   ],
   "source": [
    "cust_sp"
   ]
  },
  {
   "cell_type": "code",
   "execution_count": 37,
   "metadata": {},
   "outputs": [
    {
     "data": {
      "text/plain": [
       "array([[ 0.73281986, -0.83372195],\n",
       "       [-0.89566872,  1.01899349]])"
      ]
     },
     "execution_count": 37,
     "metadata": {},
     "output_type": "execute_result"
    }
   ],
   "source": [
    "K_clus2.cluster_centers_"
   ]
  }
 ],
 "metadata": {
  "kernelspec": {
   "display_name": "Python 3",
   "language": "python",
   "name": "python3"
  },
  "language_info": {
   "codemirror_mode": {
    "name": "ipython",
    "version": 3
   },
   "file_extension": ".py",
   "mimetype": "text/x-python",
   "name": "python",
   "nbconvert_exporter": "python",
   "pygments_lexer": "ipython3",
   "version": "3.7.6"
  }
 },
 "nbformat": 4,
 "nbformat_minor": 4
}
